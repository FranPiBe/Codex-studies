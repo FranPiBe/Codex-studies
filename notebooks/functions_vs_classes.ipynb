{
 "cells": [
  {
   "cell_type": "markdown",
   "metadata": {},
   "source": [
    "# Functions vs. Classes"
   ]
  },
  {
   "cell_type": "markdown",
   "metadata": {},
   "source": "\nCompare solving a problem using standalone functions and using a class.\nWe'll create a tiny calculator both ways.\n"
  },
  {
   "cell_type": "code",
   "metadata": {},
   "source": "\n# Procedural approach\n\ndef add(a, b):\n    return a + b\n\nprint('add:', add(2, 3))\n",
   "execution_count": null,
   "outputs": []
  },
  {
   "cell_type": "code",
   "metadata": {},
   "source": "\n# Object oriented approach\nclass Calculator:\n    def add(self, a, b):\n        return a + b\n\ncalc = Calculator()\nprint('class add:', calc.add(2, 3))\n",
   "execution_count": null,
   "outputs": []
  },
  {
   "cell_type": "markdown",
   "metadata": {},
   "source": [
    "### Try it yourself"
   ]
  },
  {
   "cell_type": "code",
   "metadata": {},
   "source": "\n# Extend the class with a subtract method and test it\ndef subtract(a, b):\n    return a - b\n\nCalculator.subtract = lambda self, a, b: a - b\nprint('subtract:', calc.subtract(5, 2))\nprint('function subtract:', subtract(5, 2))\n",
   "execution_count": null,
   "outputs": []
  }
 ],
 "metadata": {
  "kernelspec": {
   "display_name": "Python 3",
   "language": "python",
   "name": "python3"
  },
  "language_info": {
   "name": "python",
   "version": "3.12"
  }
 },
 "nbformat": 4,
 "nbformat_minor": 4
}
