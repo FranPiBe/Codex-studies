{
 "cells": [
  {
   "cell_type": "markdown",
   "metadata": {},
   "source": [
    "# Filtering and Grouping with pandas"
   ]
  },
  {
   "cell_type": "markdown",
   "metadata": {},
   "source": "\nLearn how to filter rows, use boolean masks, group data, and aggregate\nwith `pandas`. Avoid common pitfalls like chained indexing.\n"
  },
  {
   "cell_type": "code",
   "metadata": {},
   "source": "\nimport pandas as pd\n\ndata = {\n    'team': ['A', 'A', 'B', 'B'],\n    'points': [10, 15, 10, 20],\n    'player': ['alice', 'bob', 'carol', 'dave']\n}\ndf = pd.DataFrame(data)\nprint(df)\n",
   "execution_count": null,
   "outputs": []
  },
  {
   "cell_type": "markdown",
   "metadata": {},
   "source": [
    "## Filtering"
   ]
  },
  {
   "cell_type": "code",
   "metadata": {},
   "source": "\nmask = df['points'] > 10\nfiltered = df.loc[mask]\nprint(filtered)\n",
   "execution_count": null,
   "outputs": []
  },
  {
   "cell_type": "markdown",
   "metadata": {},
   "source": [
    "## Grouping"
   ]
  },
  {
   "cell_type": "code",
   "metadata": {},
   "source": "\nprint(df.groupby('team')['points'].agg(['mean', 'sum']))\n",
   "execution_count": null,
   "outputs": []
  },
  {
   "cell_type": "markdown",
   "metadata": {},
   "source": [
    "### Try it yourself"
   ]
  },
  {
   "cell_type": "code",
   "metadata": {},
   "source": "\n# Add a new column with rank within each team\nranked = df.sort_values('points').groupby('team', as_index=False).cumcount()+1\nprint(ranked)\n",
   "execution_count": null,
   "outputs": []
  }
 ],
 "metadata": {
  "kernelspec": {
   "display_name": "Python 3",
   "language": "python",
   "name": "python3"
  },
  "language_info": {
   "name": "python",
   "version": "3.12"
  }
 },
 "nbformat": 4,
 "nbformat_minor": 4
}
