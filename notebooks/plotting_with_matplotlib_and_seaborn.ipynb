{
 "cells": [
  {
   "cell_type": "markdown",
   "metadata": {},
   "source": [
    "# Plotting with Matplotlib and Seaborn"
   ]
  },
  {
   "cell_type": "markdown",
   "metadata": {},
   "source": "\nCompare line and bar plots using the same data. We'll adjust styles,\nannotate points, and save the figure.\n"
  },
  {
   "cell_type": "code",
   "metadata": {},
   "source": "\nimport matplotlib.pyplot as plt\nimport seaborn as sns\n\nsns.set_theme()\nvalues = [3, 1, 4, 1, 5]\nplt.figure(figsize=(4, 3))\nplt.plot(values, marker='o')\nplt.title('Line Plot')\nplt.show()\n",
   "execution_count": null,
   "outputs": []
  },
  {
   "cell_type": "code",
   "metadata": {},
   "source": "\nplt.figure(figsize=(4, 3))\nsns.barplot(x=list(range(len(values))), y=values)\nplt.title('Bar Plot')\nplt.show()\n",
   "execution_count": null,
   "outputs": []
  },
  {
   "cell_type": "markdown",
   "metadata": {},
   "source": [
    "### Try it yourself"
   ]
  },
  {
   "cell_type": "code",
   "metadata": {},
   "source": "\nplt.figure()\nplt.plot(values, marker='o')\nfor idx, val in enumerate(values):\n    plt.text(idx, val, str(val))\nplt.savefig('plot.png')\n",
   "execution_count": null,
   "outputs": []
  }
 ],
 "metadata": {
  "kernelspec": {
   "display_name": "Python 3",
   "language": "python",
   "name": "python3"
  },
  "language_info": {
   "name": "python",
   "version": "3.12"
  }
 },
 "nbformat": 4,
 "nbformat_minor": 4
}
