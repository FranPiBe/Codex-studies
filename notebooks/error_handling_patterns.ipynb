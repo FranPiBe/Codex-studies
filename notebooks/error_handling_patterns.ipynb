{
 "cells": [
  {
   "cell_type": "markdown",
   "metadata": {},
   "source": [
    "# Error Handling Patterns"
   ]
  },
  {
   "cell_type": "markdown",
   "metadata": {},
   "source": "\nExamples of using `try/except` blocks, raising errors, and defining\ncustom exceptions. Logging is preferred over printing for errors.\n"
  },
  {
   "cell_type": "code",
   "metadata": {},
   "source": "\ntry:\n    x = 1 / 0\nexcept ZeroDivisionError as exc:\n    print('handling:', exc)\n",
   "execution_count": null,
   "outputs": []
  },
  {
   "cell_type": "code",
   "metadata": {},
   "source": "\nclass MyError(Exception):\n    pass\n\nraise MyError('something went wrong')\n",
   "execution_count": null,
   "outputs": []
  },
  {
   "cell_type": "markdown",
   "metadata": {},
   "source": [
    "### Try it yourself"
   ]
  },
  {
   "cell_type": "code",
   "metadata": {},
   "source": "\nimport logging\nlogging.basicConfig(level=logging.INFO)\ntry:\n    int('not-int')\nexcept ValueError:\n    logging.exception('Failed to convert string')\n",
   "execution_count": null,
   "outputs": []
  }
 ],
 "metadata": {
  "kernelspec": {
   "display_name": "Python 3",
   "language": "python",
   "name": "python3"
  },
  "language_info": {
   "name": "python",
   "version": "3.12"
  }
 },
 "nbformat": 4,
 "nbformat_minor": 4
}
