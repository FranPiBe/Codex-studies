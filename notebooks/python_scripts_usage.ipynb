{
 "cells": [
  {
   "cell_type": "markdown",
   "metadata": {},
   "source": [
    "# Python Scripts Usage\n",
    "This notebook demonstrates basic usage of the utilities in the `python_scripts` folder."
   ]
  },
  {
   "cell_type": "markdown",
   "metadata": {},
   "source": [
    "## file_organizer.py\n",
    "Organize files in a folder by extension."
   ]
  },
  {
   "cell_type": "code",
   "execution_count": null,
   "metadata": {},
   "outputs": [],
   "source": [
    "import sys\n",
    "sys.path.append('../python_scripts')\n",
    "import file_organizer\n",
    "from pathlib import Path\n",
    "from tempfile import TemporaryDirectory\n",
    "\n",
    "with TemporaryDirectory() as tmp:\n",
    "    Path(tmp, 'note.txt').write_text('hello')\n",
    "    Path(tmp, 'image.png').write_text('pngdata')\n",
    "    file_organizer.organize(tmp, dry_run=True)\n"
   ]
  },
  {
   "cell_type": "markdown",
   "metadata": {},
   "source": [
    "## pdf_to_text.py\n",
    "Extract text from PDFs in a folder."
   ]
  },
  {
   "cell_type": "code",
   "execution_count": null,
   "metadata": {},
   "outputs": [],
   "source": [
    "import sys\n",
    "sys.path.append('../python_scripts')\n",
    "import pdf_to_text\n",
    "from pathlib import Path\n",
    "from tempfile import TemporaryDirectory\n",
    "\n",
    "with TemporaryDirectory() as tmp:\n",
    "    # imagine tmp contains sample PDFs\n",
    "    out_dir = Path(tmp)/'texts'\n",
    "    pdf_to_text.convert_all(tmp, out_dir)\n"
   ]
  },
  {
   "cell_type": "markdown",
   "metadata": {},
   "source": [
    "## log_parser.py\n",
    "Summarize log levels in a log file."
   ]
  },
  {
   "cell_type": "code",
   "execution_count": null,
   "metadata": {},
   "outputs": [],
   "source": [
    "import sys\n",
    "sys.path.append('../python_scripts')\n",
    "import log_parser\n",
    "sample = [\n",
    "    '2023-01-01 ERROR Something failed',\n",
    "    '2023-01-01 INFO Startup complete',\n",
    "    '2023-01-02 WARNING Low disk space',\n",
    "]\n",
    "stats = log_parser.parse_lines(sample)\n",
    "log_parser.print_summary(stats)\n"
   ]
  },
  {
   "cell_type": "markdown",
   "metadata": {},
   "source": [
    "## markdown_table_generator.py\n",
    "Convert CSV rows to a Markdown table."
   ]
  },
  {
   "cell_type": "code",
   "execution_count": null,
   "metadata": {},
   "outputs": [],
   "source": [
    "import sys\n",
    "sys.path.append('../python_scripts')\n",
    "import markdown_table_generator as mtg\n",
    "rows = [\n",
    "    ['name', 'age'],\n",
    "    ['Alice', '30'],\n",
    "    ['Bob', '25'],\n",
    "]\n",
    "md = mtg.to_markdown(rows)\n",
    "print(md)\n"
   ]
  }
 ],
 "metadata": {
  "kernelspec": {
   "display_name": "Python 3",
   "language": "python",
   "name": "python3"
  },
  "language_info": {
   "name": "python",
   "version": "3.8"
  }
 },
 "nbformat": 4,
 "nbformat_minor": 4
}
