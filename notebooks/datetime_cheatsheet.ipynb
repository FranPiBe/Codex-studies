{
 "cells": [
  {
   "cell_type": "markdown",
   "metadata": {},
   "source": [
    "# Datetime Cheatsheet"
   ]
  },
  {
   "cell_type": "markdown",
   "metadata": {},
   "source": "\nQuick tour of the `datetime` module: parsing, arithmetic with `timedelta`,\nworking with timezones, and formatting strings.\n"
  },
  {
   "cell_type": "code",
   "metadata": {},
   "source": "\nfrom datetime import datetime, timedelta, timezone\n\nnow = datetime.now()\nprint('now:', now)\nprint('plus one week:', now + timedelta(weeks=1))\n",
   "execution_count": null,
   "outputs": []
  },
  {
   "cell_type": "code",
   "metadata": {},
   "source": "\n# Parsing a date string\ns = '2024-08-01 14:30'\nparsed = datetime.strptime(s, '%Y-%m-%d %H:%M')\nprint('parsed:', parsed)\n",
   "execution_count": null,
   "outputs": []
  },
  {
   "cell_type": "code",
   "metadata": {},
   "source": "\n# Timezone example\nutc = timezone.utc\nloc = parsed.replace(tzinfo=utc)\nprint('with tz:', loc.isoformat())\n",
   "execution_count": null,
   "outputs": []
  },
  {
   "cell_type": "markdown",
   "metadata": {},
   "source": [
    "### Date Range"
   ]
  },
  {
   "cell_type": "code",
   "metadata": {},
   "source": "\n# generate a list of dates\ndays = [parsed + timedelta(days=i) for i in range(3)]\nfor d in days:\n    print(d.strftime('%Y-%m-%d'))\n",
   "execution_count": null,
   "outputs": []
  },
  {
   "cell_type": "markdown",
   "metadata": {},
   "source": [
    "### Try it yourself"
   ]
  },
  {
   "cell_type": "code",
   "metadata": {},
   "source": "\n# Format the current time as HH:MM AM/PM\nprint(datetime.now().strftime('%I:%M %p'))\n",
   "execution_count": null,
   "outputs": []
  }
 ],
 "metadata": {
  "kernelspec": {
   "display_name": "Python 3",
   "language": "python",
   "name": "python3"
  },
  "language_info": {
   "name": "python",
   "version": "3.12"
  }
 },
 "nbformat": 4,
 "nbformat_minor": 4
}
