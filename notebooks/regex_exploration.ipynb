{
 "cells": [
  {
   "cell_type": "markdown",
   "metadata": {},
   "source": [
    "# Exploring Regular Expressions"
   ]
  },
  {
   "cell_type": "markdown",
   "metadata": {},
   "source": [
    "\nThis notebook introduces Python's `re` module with small examples.\nWe'll cover **search**, **match**, and **findall**, as well as groups,\ncharacter classes, and anchors.\n"
   ]
  },
  {
   "cell_type": "markdown",
   "metadata": {},
   "source": [
    "## Search vs. Match vs. Findall"
   ]
  },
  {
   "cell_type": "code",
   "metadata": {},
   "source": "\nimport re\ntext = \"Email alice@example.com met bob@example.org on 2024-07-15\"\nprint('search:', re.search(r\"\\w+@\\w+\\.com\", text).group())\nprint('match:', re.match(r\"\\w+\", text).group())\nprint('findall:', re.findall(r\"[a-z]+@\\w+\\.\\w+\", text))\n",
   "execution_count": null,
   "outputs": []
  },
  {
   "cell_type": "markdown",
   "metadata": {},
   "source": [
    "## Groups and Character Classes"
   ]
  },
  {
   "cell_type": "code",
   "metadata": {},
   "source": "\npattern = r\"(\\w+)@(\\w+\\.\\w+)\"\nmatch = re.search(pattern, text)\nprint('whole match:', match.group(0))\nprint('user:', match.group(1))\nprint('domain:', match.group(2))\n",
   "execution_count": null,
   "outputs": []
  },
  {
   "cell_type": "markdown",
   "metadata": {},
   "source": [
    "### Real Examples"
   ]
  },
  {
   "cell_type": "code",
   "metadata": {},
   "source": "\nurls = \"Visit https://openai.com or http://example.org for more info\"\nre.findall(r\"https?://[\\w./]+\", urls)\n",
   "execution_count": null,
   "outputs": []
  },
  {
   "cell_type": "markdown",
   "metadata": {},
   "source": [
    "### Try it yourself"
   ]
  },
  {
   "cell_type": "code",
   "metadata": {},
   "source": "\n# Extract the date in YYYY-MM-DD format from the text variable\ndate_match = re.search(r\"\\d{4}-\\d{2}-\\d{2}\", text)\nprint('date:', date_match.group())\n",
   "execution_count": null,
   "outputs": []
  }
 ],
 "metadata": {
  "kernelspec": {
   "display_name": "Python 3",
   "language": "python",
   "name": "python3"
  },
  "language_info": {
   "name": "python",
   "version": "3.12"
  }
 },
 "nbformat": 4,
 "nbformat_minor": 4
}
