{
 "cells": [
  {
   "cell_type": "markdown",
   "metadata": {},
   "source": [
    "# Graph RAG Basics\nThis notebook introduces the idea of combining a knowledge graph with vector retrieval for question answering."
   ]
  },
  {
   "cell_type": "markdown",
   "metadata": {},
   "source": [
    "We'll build a tiny graph of authors and their publications using `networkx`. The graph can be traversed to answer questions like *What has John Smith published?*"
   ]
  },
  {
   "cell_type": "code",
   "execution_count": null,
   "metadata": {},
   "outputs": [],
   "source": [
    "import networkx as nx\nG = nx.DiGraph()\nG.add_edge('John Smith','Paper A')\nG.add_edge('John Smith','Paper B')\nG.add_edge('Jane Doe','Paper C')"
   ]
  },
  {
   "cell_type": "code",
   "execution_count": null,
   "metadata": {},
   "outputs": [],
   "source": [
    "def publications(author):\n    return list(G.successors(author))\n\nprint(publications('John Smith'))"
   ]
  },
  {
   "cell_type": "markdown",
   "metadata": {},
   "source": [
    "In a graph RAG system, the results from the graph traversal would be combined with text retrieved from a vector store before asking the LLM. This works well when relationships between entities are important."
   ]
  }
 ],
 "metadata": {
  "kernelspec": {
   "display_name": "Python 3",
   "language": "python",
   "name": "python3"
  },
  "language_info": {
   "name": "python",
   "pygments_lexer": "ipython3"
  }
 },
 "nbformat": 4,
 "nbformat_minor": 4
}
