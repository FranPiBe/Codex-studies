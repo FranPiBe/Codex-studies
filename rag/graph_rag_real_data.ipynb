{
 "cells": [
  {
   "cell_type": "markdown",
   "metadata": {},
   "source": [
    "# Advanced Graph RAG with Real Data\n",
    "This notebook demonstrates how to combine a knowledge graph with a vector database so that an LLM can reason over both structured relations and semantic text."
   ]
  },
  {
   "cell_type": "markdown",
   "metadata": {},
   "source": [
    "## What is Graph RAG?\n",
    "*Retrieval-Augmented Generation* (RAG) typically retrieves semantically similar documents from a vector store. **Graph RAG** adds a symbolic layer: we first traverse a knowledge graph to find entities and relationships, then use semantic search for additional context."
   ]
  },
  {
   "cell_type": "markdown",
   "metadata": {},
   "source": [
    "Real-world applications include academic assistants, enterprise knowledge, legal search and biological research. The diagram below shows the full flow:"
   ]
  },
  {
   "cell_type": "markdown",
   "metadata": {},
   "source": [
    "```mermaid\n",
    "graph TD\n",
    "  Q[User question] --> G[Graph traversal]\n",
    "  G --> V[Vector search]\n",
    "  V --> L[LLM]\n",
    "  L --> A[Answer]\n",
    "```"
   ]
  },
  {
   "cell_type": "code",
   "execution_count": null,
   "metadata": {},
   "outputs": [],
   "source": [
    "# Install required libraries\n",
    "# !pip install networkx chromadb sentence-transformers openai matplotlib"
   ]
  },
  {
   "cell_type": "code",
   "execution_count": null,
   "metadata": {},
   "outputs": [],
   "source": [
    "import networkx as nx\n",
    "import chromadb\n",
    "from sentence_transformers import SentenceTransformer\n",
    "from openai import OpenAI\n",
    "import matplotlib.pyplot as plt"
   ]
  },
  {
   "cell_type": "code",
   "execution_count": null,
   "metadata": {},
   "outputs": [],
   "source": [
    "# Create a small real graph. We'll use the karate club network\n",
    "G = nx.karate_club_graph()\n",
    "# Add simple textual descriptions. In a real project you would pull abstracts or Wikipedia descriptions.\n",
    "for node in G.nodes():\n",
    "    G.nodes[node]['description'] = f'Member {node} of the karate club.'"
   ]
  },
  {
   "cell_type": "code",
   "execution_count": null,
   "metadata": {},
   "outputs": [],
   "source": [
    "# Build a vector store of node descriptions\n",
    "db = chromadb.PersistentClient(path='graph_db')\n",
    "collection = db.get_or_create_collection('karate')\n",
    "model = SentenceTransformer('all-MiniLM-L6-v2')\n",
    "for node, data in G.nodes(data=True):\n",
    "    text = data['description']\n",
    "    emb = model.encode(text)\n",
    "    collection.add(documents=[text], embeddings=[emb], metadatas=[{'node': node}])"
   ]
  },
  {
   "cell_type": "code",
   "execution_count": null,
   "metadata": {},
   "outputs": [],
   "source": [
    "def graph_neighbors(start, depth=1):\n",
    "    frontier = {start}\n",
    "    visited = set()\n",
    "    for _ in range(depth):\n",
    "        next_frontier = set()\n",
    "        for node in frontier:\n",
    "            for nbr in G.neighbors(node):\n",
    "                if nbr not in visited:\n",
    "                    next_frontier.add(nbr)\n",
    "        visited.update(frontier)\n",
    "        frontier = next_frontier\n",
    "    return list(visited | frontier)"
   ]
  },
  {
   "cell_type": "code",
   "execution_count": null,
   "metadata": {},
   "outputs": [],
   "source": [
    "def graph_rag(question, start_node, depth=1, top_k=3):\n",
    "    nodes = graph_neighbors(start_node, depth)\n",
    "    texts = [G.nodes[n]['description'] for n in nodes]\n",
    "    query_emb = model.encode(question)\n",
    "    results = collection.query(query_embeddings=[query_emb], n_results=top_k)\n",
    "    vect_texts = [r for r in results['documents'][0]]\n",
    "    vect_meta = results['metadatas'][0]\n",
    "\n",
    "    prompt = f'Graph result: {texts}\nVector search result: {vect_texts}\nQuestion: {question}'\n",
    "    client = OpenAI()\n",
    "    completion = client.chat.completions.create(model='gpt-4o', messages=[{'role':'user','content':prompt}])\n",
    "    return completion.choices[0].message.content, nodes, results"
   ]
  },
  {
   "cell_type": "markdown",
   "metadata": {},
   "source": [
    "### Example query"
   ]
  },
  {
   "cell_type": "code",
   "execution_count": null,
   "metadata": {},
   "outputs": [],
   "source": [
    "answer, nodes, results = graph_rag('Who is connected to node 0?', start_node=0, depth=2)\n",
    "print(answer)"
   ]
  },
  {
   "cell_type": "code",
   "execution_count": null,
   "metadata": {},
   "outputs": [],
   "source": [
    "# Visualize traversal\n",
    "pos = nx.spring_layout(G, seed=42)\n",
    "nx.draw(G, pos, node_color='lightgray', with_labels=True)\n",
    "nx.draw_networkx_nodes(G, pos, nodelist=nodes, node_color='red')\n",
    "plt.show()"
   ]
  }
 ],
 "metadata": {
  "kernelspec": {
   "display_name": "Python 3",
   "language": "python",
   "name": "python3"
  },
  "language_info": {
   "name": "python",
   "version": "3.10"
  }
 },
 "nbformat": 4,
 "nbformat_minor": 5
}
