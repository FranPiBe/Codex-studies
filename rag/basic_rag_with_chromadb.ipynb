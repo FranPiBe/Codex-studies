{
 "cells": [
  {
   "cell_type": "markdown",
   "metadata": {},
   "source": [
    "# Basic RAG with ChromaDB\n",
    "This notebook demonstrates a minimal Retrieval-Augmented Generation (RAG) pipeline using **ChromaDB** as a persistent vector store."
   ]
  },
  {
   "cell_type": "markdown",
   "metadata": {},
   "source": [
    "RAG works by retrieving documents relevant to a user's question and feeding them to a language model.\n",
    "Here the steps are:\n",
    "1. Embed the question and documents using a sentence transformer.\n",
    "2. Perform a similarity search in ChromaDB.\n",
    "3. Compose a prompt with the retrieved docs.\n",
    "4. Ask an LLM to answer."
   ]
  },
  {
   "cell_type": "markdown",
   "metadata": {},
   "source": [
    "```",
    "User question -> embedding -> retrieval -> prompt -> answer",
    "```"
   ]
  },
  {
   "cell_type": "code",
   "execution_count": null,
   "metadata": {},
   "outputs": [],
   "source": [
    "# Install dependencies if needed",
    "# !pip install chromadb langchain sentence-transformers openai"
   ]
  },
  {
   "cell_type": "code",
   "execution_count": null,
   "metadata": {},
   "outputs": [],
   "source": [
    "from langchain.embeddings import HuggingFaceEmbeddings\n",
    "from langchain.vectorstores import Chroma\n",
    "from langchain.llms import OpenAI\n",
    "from langchain.chains import RetrievalQA\n",
    "\n",
    "DB_DIR = 'rag_db'\n",
    "embeddings = HuggingFaceEmbeddings(model_name='all-MiniLM-L6-v2')\n",
    "\n",
    "texts = [\n",
    "    'Small dogs are friendly and great for apartments.',\n",
    "    'Large dogs require more space and daily exercise.',\n",
    "    'Cats are independent pets that enjoy quiet environments.'\n",
    "]\n",
    "metadatas = [{'source': f'doc{i}'} for i in range(len(texts))]\n",
    "\n",
    "vectordb = Chroma.from_texts(texts, embeddings, metadatas=metadatas, persist_directory=DB_DIR)\n",
    "vectordb.persist()"
   ]
  },
  {
   "cell_type": "code",
   "execution_count": null,
   "metadata": {},
   "outputs": [],
   "source": [
    "qa = RetrievalQA.from_chain_type(llm=OpenAI(temperature=0), chain_type='stuff', retriever=vectordb.as_retriever())\n",
    "query = 'Which pets are good for apartments?'\n",
    "result = qa({'query': query})\n",
    "print('Answer:', result['result'])\n",
    "\n",
    "docs = vectordb.similarity_search(query, k=2)\n",
    "for doc in docs:\n",
    "    print(doc.page_content, '->', doc.metadata)"
   ]
  },
  {
   "cell_type": "markdown",
   "metadata": {},
   "source": [
    "The output shows which documents were retrieved to answer the question. Persistence is handled via `vectordb.persist()` so re-running the notebook keeps the data on disk."
   ]
  }
 ],
 "metadata": {
  "kernelspec": {
   "display_name": "Python 3",
   "language": "python",
   "name": "python3"
  },
  "language_info": {
   "name": "python",
   "pygments_lexer": "ipython3"
  }
 },
 "nbformat": 4,
 "nbformat_minor": 4
}
